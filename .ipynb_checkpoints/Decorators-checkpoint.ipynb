{
 "cells": [
  {
   "cell_type": "markdown",
   "metadata": {},
   "source": [
    "# 1. Functions"
   ]
  },
  {
   "cell_type": "code",
   "execution_count": 5,
   "metadata": {},
   "outputs": [],
   "source": [
    "def fib(n):\n",
    "    ''' Return nth number of Fibonacci'''\n",
    "    if n<2:\n",
    "        return n\n",
    "    else:\n",
    "        return fib(n-1) + fib(n-2)"
   ]
  },
  {
   "cell_type": "code",
   "execution_count": 6,
   "metadata": {},
   "outputs": [
    {
     "data": {
      "text/plain": [
       "21"
      ]
     },
     "execution_count": 6,
     "metadata": {},
     "output_type": "execute_result"
    }
   ],
   "source": [
    "fib(8)"
   ]
  },
  {
   "cell_type": "code",
   "execution_count": 7,
   "metadata": {},
   "outputs": [
    {
     "name": "stdout",
     "output_type": "stream",
     "text": [
      "Help on function fib in module __main__:\n",
      "\n",
      "fib(n)\n",
      "    Return nth number of Fibonacci\n",
      "\n"
     ]
    }
   ],
   "source": [
    "help(fib)"
   ]
  },
  {
   "cell_type": "code",
   "execution_count": 13,
   "metadata": {},
   "outputs": [],
   "source": [
    "# Functions within functions\n",
    "\n",
    "def fib_three(a, b, c):\n",
    "    ''' Accepts 3 Fibonaccis'''\n",
    "    def get_three():\n",
    "        ''' Return 3 Fibonaccis '''\n",
    "        return a, b, c\n",
    "    return get_three()"
   ]
  },
  {
   "cell_type": "code",
   "execution_count": 14,
   "metadata": {},
   "outputs": [
    {
     "data": {
      "text/plain": [
       "(1, 2, 1)"
      ]
     },
     "execution_count": 14,
     "metadata": {},
     "output_type": "execute_result"
    }
   ],
   "source": [
    "fib_three(1,2,1)"
   ]
  },
  {
   "cell_type": "markdown",
   "metadata": {},
   "source": [
    "# 2. Decorators"
   ]
  },
  {
   "cell_type": "code",
   "execution_count": 26,
   "metadata": {},
   "outputs": [],
   "source": [
    "def my_decorator(func):\n",
    "    '''decorator'''\n",
    "    def wrapper():\n",
    "        '''return F-I-B-O-N-A-C-C-I'''\n",
    "        return 'F-I-B-O-N-A-C-C-I'\n",
    "    return wrapper\n",
    "\n",
    "@my_decorator\n",
    "def pfib():\n",
    "    '''return Fibonacci'''\n",
    "    return 'Fibonacci'"
   ]
  },
  {
   "cell_type": "code",
   "execution_count": 16,
   "metadata": {},
   "outputs": [
    {
     "name": "stdout",
     "output_type": "stream",
     "text": [
      "F-I-B-O-N-A-C-C-I\n"
     ]
    }
   ],
   "source": [
    "print(pfib())"
   ]
  },
  {
   "cell_type": "code",
   "execution_count": 31,
   "metadata": {},
   "outputs": [],
   "source": [
    "from functools import wraps"
   ]
  },
  {
   "cell_type": "code",
   "execution_count": 36,
   "metadata": {},
   "outputs": [],
   "source": [
    "def make_posh(func):\n",
    "    '''decorator'''\n",
    "    @wraps(func)\n",
    "    def wrapper():\n",
    "        '''wrapper func'''\n",
    "        print('+---------+')\n",
    "        print('           ')\n",
    "        results = func()\n",
    "        print(results)\n",
    "        print('           ')\n",
    "        print('+---------+')\n",
    "        return ''\n",
    "#     wrapper.__name__=func.__name__\n",
    "#     wrapper.__doc__=func.__doc__\n",
    "    return wrapper\n",
    "\n",
    "@make_posh\n",
    "def printpfib():\n",
    "    '''return Fibonacci'''\n",
    "    return ' Fibonacci '"
   ]
  },
  {
   "cell_type": "code",
   "execution_count": 37,
   "metadata": {},
   "outputs": [
    {
     "name": "stdout",
     "output_type": "stream",
     "text": [
      "+---------+\n",
      "           \n",
      " Fibonacci \n",
      "           \n",
      "+---------+\n",
      "\n"
     ]
    }
   ],
   "source": [
    "print(printpfib())"
   ]
  },
  {
   "cell_type": "code",
   "execution_count": 38,
   "metadata": {},
   "outputs": [
    {
     "data": {
      "text/plain": [
       "'printpfib'"
      ]
     },
     "execution_count": 38,
     "metadata": {},
     "output_type": "execute_result"
    }
   ],
   "source": [
    "printpfib.__name__"
   ]
  },
  {
   "cell_type": "code",
   "execution_count": 39,
   "metadata": {},
   "outputs": [
    {
     "data": {
      "text/plain": [
       "'return Fibonacci'"
      ]
     },
     "execution_count": 39,
     "metadata": {},
     "output_type": "execute_result"
    }
   ],
   "source": [
    "printpfib.__doc__"
   ]
  },
  {
   "cell_type": "code",
   "execution_count": 10,
   "metadata": {},
   "outputs": [],
   "source": [
    "from functools import wraps\n",
    "\n",
    "def bold(func):\n",
    "    '''bold'''\n",
    "    def wrapper():\n",
    "        '''wrapper'''\n",
    "        result = '<b>'+ func()+'</b>'\n",
    "        return result\n",
    "    return wrapper\n",
    "\n",
    "def italic(func):\n",
    "    '''italic'''\n",
    "    def wrapper():\n",
    "        '''wrapper'''\n",
    "        result = '<i>'+ func()+'</i>'\n",
    "        return result\n",
    "    return wrapper\n",
    "\n",
    "@bold\n",
    "@italic\n",
    "def printfib():\n",
    "    '''print Fibonacci'''\n",
    "    return 'Fibonacci'"
   ]
  },
  {
   "cell_type": "code",
   "execution_count": 11,
   "metadata": {},
   "outputs": [
    {
     "name": "stdout",
     "output_type": "stream",
     "text": [
      "<b><i>Fibonacci</i></b>\n"
     ]
    }
   ],
   "source": [
    "print(printfib())"
   ]
  },
  {
   "cell_type": "markdown",
   "metadata": {},
   "source": [
    "# 3. Decoratorts with Arguments"
   ]
  },
  {
   "cell_type": "code",
   "execution_count": 28,
   "metadata": {},
   "outputs": [],
   "source": [
    "def pfib(*args,**kwargs):\n",
    "    print(args)\n",
    "    print(kwargs)"
   ]
  },
  {
   "cell_type": "code",
   "execution_count": 29,
   "metadata": {},
   "outputs": [],
   "source": [
    "def wrapper(*args,**kwargs):\n",
    "    print(*args)\n",
    "    print('Leaving wrapper')\n",
    "    pfib(*args, **kwargs)"
   ]
  },
  {
   "cell_type": "code",
   "execution_count": 30,
   "metadata": {},
   "outputs": [
    {
     "name": "stdout",
     "output_type": "stream",
     "text": [
      "1 1\n",
      "Leaving wrapper\n",
      "(1, 1)\n",
      "{'th': 2}\n"
     ]
    }
   ],
   "source": [
    "wrapper(1,1,th=2)"
   ]
  },
  {
   "cell_type": "code",
   "execution_count": 31,
   "metadata": {
    "scrolled": true
   },
   "outputs": [
    {
     "name": "stdout",
     "output_type": "stream",
     "text": [
      "(1, 2)\n",
      "{'a': 3, 'c': '100'}\n"
     ]
    }
   ],
   "source": [
    "pfib(1, 2, a=3, c='100')"
   ]
  },
  {
   "cell_type": "code",
   "execution_count": 63,
   "metadata": {},
   "outputs": [
    {
     "name": "stdout",
     "output_type": "stream",
     "text": [
      "fib(1) = 1 -> 0.00000050s\n",
      "fib(0) = 0 -> 0.00000039s\n",
      "fib(2) = 1 -> 0.00020836s\n",
      "fib(3) = 2 -> 0.00023145s\n",
      "fib(4) = 3 -> 0.00045980s\n",
      "fib(5) = 5 -> 0.00050738s\n",
      "fib(6) = 8 -> 0.00054136s\n",
      "fib(7) = 13 -> 0.00057376s\n",
      "fib(8) = 21 -> 0.00060465s\n",
      "fib(9) = 34 -> 0.00063462s\n",
      "fib(10) = 55 -> 0.00066128s\n",
      "fib(11) = 89 -> 0.00068830s\n",
      "fib(12) = 144 -> 0.00071434s\n",
      "fib(13) = 233 -> 0.00074063s\n",
      "fib(14) = 377 -> 0.00076595s\n",
      "fib(15) = 610 -> 0.00079225s\n"
     ]
    },
    {
     "data": {
      "text/plain": [
       "610"
      ]
     },
     "execution_count": 63,
     "metadata": {},
     "output_type": "execute_result"
    }
   ],
   "source": [
    "## Time ##\n",
    "from time import perf_counter\n",
    "from functools import wraps, lru_cache\n",
    "\n",
    "def timer(func):\n",
    "    @wraps(func)\n",
    "    def wrapper(*args, **kwargs):\n",
    "        start = perf_counter()\n",
    "        result = func(*args, **kwargs)\n",
    "        end = perf_counter()\n",
    "        duration = end - start\n",
    "        arg = str(*args)\n",
    "        print(f'{func.__name__}({arg}) = {result} -> {duration:.8f}s')\n",
    "        return result\n",
    "    return wrapper\n",
    "\n",
    "@lru_cache(maxsize=None)\n",
    "@timer\n",
    "def fib(n):\n",
    "    '''nth value of Fibonacci'''\n",
    "    if n<2:\n",
    "        return n\n",
    "    else:\n",
    "        return fib(n-1)+fib(n-2)\n",
    "    \n",
    "fib(15)\n"
   ]
  },
  {
   "cell_type": "code",
   "execution_count": 40,
   "metadata": {},
   "outputs": [],
   "source": [
    "## decorators to time functions"
   ]
  },
  {
   "cell_type": "code",
   "execution_count": 45,
   "metadata": {},
   "outputs": [
    {
     "name": "stdout",
     "output_type": "stream",
     "text": [
      "Fxxxncci\n"
     ]
    }
   ],
   "source": [
    "from functools import wraps\n",
    "\n",
    "def munch(start, end):\n",
    "    def do_much(func):\n",
    "        @wraps(func)\n",
    "        def wrapper(*args, **kwargs):\n",
    "            new_string = ''\n",
    "            result = func(*args, **kwargs)\n",
    "            for index, char in enumerate(result):\n",
    "                c = 'x' if start <= index < end else char\n",
    "                new_string +=c\n",
    "            return new_string\n",
    "        return wrapper\n",
    "    return do_much\n",
    "\n",
    "@munch(1,4)\n",
    "def fib():\n",
    "    return 'Fiboncci'\n",
    "\n",
    "print(fib())"
   ]
  },
  {
   "cell_type": "code",
   "execution_count": 60,
   "metadata": {},
   "outputs": [],
   "source": [
    "# Classes and decorators\n",
    "from functools import update_wrapper\n",
    "\n",
    "class Count:\n",
    "    def __init__(self, func):\n",
    "        update_wrapper(self, func)\n",
    "        self.func = func\n",
    "        self.cnt = 0\n",
    "        \n",
    "    def __call__(self, *args, **kwargs):\n",
    "        self.cnt +=1 \n",
    "        print(f'Current count:{self.cnt}')\n",
    "        result = self.func(*args, **kwargs)\n",
    "        return result\n",
    "\n",
    "@Count\n",
    "def fib(n):\n",
    "    if n<2:\n",
    "        return  n\n",
    "    else:\n",
    "        return fib(n-1)+fib(n-2)"
   ]
  },
  {
   "cell_type": "code",
   "execution_count": 61,
   "metadata": {},
   "outputs": [
    {
     "name": "stdout",
     "output_type": "stream",
     "text": [
      "Current count:1\n",
      "Current count:2\n",
      "Current count:3\n",
      "Current count:4\n",
      "Current count:5\n",
      "Current count:6\n",
      "Current count:7\n",
      "Current count:8\n",
      "Current count:9\n",
      "Current count:10\n",
      "Current count:11\n",
      "Current count:12\n",
      "Current count:13\n",
      "Current count:14\n",
      "Current count:15\n",
      "Current count:16\n",
      "Current count:17\n",
      "Current count:18\n",
      "Current count:19\n",
      "Current count:20\n",
      "Current count:21\n",
      "Current count:22\n",
      "Current count:23\n",
      "Current count:24\n",
      "Current count:25\n",
      "Current count:26\n",
      "Current count:27\n",
      "Current count:28\n",
      "Current count:29\n",
      "Current count:30\n",
      "Current count:31\n",
      "Current count:32\n",
      "Current count:33\n",
      "Current count:34\n",
      "Current count:35\n",
      "Current count:36\n",
      "Current count:37\n",
      "Current count:38\n",
      "Current count:39\n",
      "Current count:40\n",
      "Current count:41\n",
      "Current count:42\n",
      "Current count:43\n",
      "Current count:44\n",
      "Current count:45\n",
      "Current count:46\n",
      "Current count:47\n",
      "Current count:48\n",
      "Current count:49\n",
      "Current count:50\n",
      "Current count:51\n",
      "Current count:52\n",
      "Current count:53\n",
      "Current count:54\n",
      "Current count:55\n",
      "Current count:56\n",
      "Current count:57\n",
      "Current count:58\n",
      "Current count:59\n",
      "Current count:60\n",
      "Current count:61\n",
      "Current count:62\n",
      "Current count:63\n",
      "Current count:64\n",
      "Current count:65\n",
      "Current count:66\n",
      "Current count:67\n",
      "Current count:68\n",
      "Current count:69\n",
      "Current count:70\n",
      "Current count:71\n",
      "Current count:72\n",
      "Current count:73\n",
      "Current count:74\n",
      "Current count:75\n",
      "Current count:76\n",
      "Current count:77\n",
      "Current count:78\n",
      "Current count:79\n",
      "Current count:80\n",
      "Current count:81\n",
      "Current count:82\n",
      "Current count:83\n",
      "Current count:84\n",
      "Current count:85\n",
      "Current count:86\n",
      "Current count:87\n",
      "Current count:88\n",
      "Current count:89\n",
      "Current count:90\n",
      "Current count:91\n",
      "Current count:92\n",
      "Current count:93\n",
      "Current count:94\n",
      "Current count:95\n",
      "Current count:96\n",
      "Current count:97\n",
      "Current count:98\n",
      "Current count:99\n",
      "Current count:100\n",
      "Current count:101\n",
      "Current count:102\n",
      "Current count:103\n",
      "Current count:104\n",
      "Current count:105\n",
      "Current count:106\n",
      "Current count:107\n",
      "Current count:108\n",
      "Current count:109\n",
      "Current count:110\n",
      "Current count:111\n",
      "Current count:112\n",
      "Current count:113\n",
      "Current count:114\n",
      "Current count:115\n",
      "Current count:116\n",
      "Current count:117\n",
      "Current count:118\n",
      "Current count:119\n",
      "Current count:120\n",
      "Current count:121\n",
      "Current count:122\n",
      "Current count:123\n",
      "Current count:124\n",
      "Current count:125\n",
      "Current count:126\n",
      "Current count:127\n",
      "Current count:128\n",
      "Current count:129\n",
      "Current count:130\n",
      "Current count:131\n",
      "Current count:132\n",
      "Current count:133\n",
      "Current count:134\n",
      "Current count:135\n",
      "Current count:136\n",
      "Current count:137\n",
      "Current count:138\n",
      "Current count:139\n",
      "Current count:140\n",
      "Current count:141\n",
      "Current count:142\n",
      "Current count:143\n",
      "Current count:144\n",
      "Current count:145\n",
      "Current count:146\n",
      "Current count:147\n",
      "Current count:148\n",
      "Current count:149\n",
      "Current count:150\n",
      "Current count:151\n",
      "Current count:152\n",
      "Current count:153\n",
      "Current count:154\n",
      "Current count:155\n",
      "Current count:156\n",
      "Current count:157\n",
      "Current count:158\n",
      "Current count:159\n",
      "Current count:160\n",
      "Current count:161\n",
      "Current count:162\n",
      "Current count:163\n",
      "Current count:164\n",
      "Current count:165\n",
      "Current count:166\n",
      "Current count:167\n",
      "Current count:168\n",
      "Current count:169\n",
      "Current count:170\n",
      "Current count:171\n",
      "Current count:172\n",
      "Current count:173\n",
      "Current count:174\n",
      "Current count:175\n",
      "Current count:176\n",
      "Current count:177\n"
     ]
    },
    {
     "data": {
      "text/plain": [
       "55"
      ]
     },
     "execution_count": 61,
     "metadata": {},
     "output_type": "execute_result"
    }
   ],
   "source": [
    "fib(10)"
   ]
  },
  {
   "cell_type": "code",
   "execution_count": null,
   "metadata": {},
   "outputs": [],
   "source": []
  }
 ],
 "metadata": {
  "kernelspec": {
   "display_name": "Python (myenv)",
   "language": "python",
   "name": "myenv"
  },
  "language_info": {
   "codemirror_mode": {
    "name": "ipython",
    "version": 3
   },
   "file_extension": ".py",
   "mimetype": "text/x-python",
   "name": "python",
   "nbconvert_exporter": "python",
   "pygments_lexer": "ipython3",
   "version": "3.8.5"
  }
 },
 "nbformat": 4,
 "nbformat_minor": 2
}
